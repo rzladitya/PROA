{
  "nbformat": 4,
  "nbformat_minor": 0,
  "metadata": {
    "colab": {
      "name": "TFDS Rock, Paper, Scissors.ipynb",
      "provenance": [],
      "collapsed_sections": []
    },
    "kernelspec": {
      "display_name": "Python 3",
      "language": "python",
      "name": "python3"
    },
    "language_info": {
      "codemirror_mode": {
        "name": "ipython",
        "version": 3
      },
      "file_extension": ".py",
      "mimetype": "text/x-python",
      "name": "python",
      "nbconvert_exporter": "python",
      "pygments_lexer": "ipython3",
      "version": "3.7.4"
    }
  },
  "cells": [
    {
      "cell_type": "code",
      "metadata": {
        "id": "zX4Kg8DUTKWO"
      },
      "source": [
        "#@title Licensed under the Apache License, Version 2.0 (the \"License\");\n",
        "# you may not use this file except in compliance with the License.\n",
        "# You may obtain a copy of the License at\n",
        "#\n",
        "# https://www.apache.org/licenses/LICENSE-2.0\n",
        "#\n",
        "# Unless required by applicable law or agreed to in writing, software\n",
        "# distributed under the License is distributed on an \"AS IS\" BASIS,\n",
        "# WITHOUT WARRANTIES OR CONDITIONS OF ANY KIND, either express or implied.\n",
        "# See the License for the specific language governing permissions and\n",
        "# limitations under the License."
      ],
      "execution_count": null,
      "outputs": []
    },
    {
      "cell_type": "markdown",
      "metadata": {
        "id": "zLYVtyNslcZJ"
      },
      "source": [
        "# TFDS and Rock, Paper, Scissors"
      ]
    },
    {
      "cell_type": "markdown",
      "metadata": {
        "id": "p-sYU-C3lcZO"
      },
      "source": [
        "<table class=\"tfo-notebook-buttons\" align=\"left\">\n",
        "  <td>\n",
        "    <a target=\"_blank\" href=\"https://colab.research.google.com/github/lmoroney/dlaicourse/blob/master/TensorFlow%20Deployment/Course%203%20-%20TensorFlow%20Datasets/Week%201/Exercises/TFDS_Week1_Exercise.ipynb\">\n",
        "    <img src=\"https://www.tensorflow.org/images/colab_logo_32px.png\" />\n",
        "    Run in Google Colab</a>\n",
        "  </td>\n",
        "  <td>\n",
        "    <a target=\"_blank\" href=\"https://github.com/lmoroney/dlaicourse/blob/master/TensorFlow%20Deployment/Course%203%20-%20TensorFlow%20Datasets/Week%201/Exercises/TFDS_Week1_Exercise.ipynb\">\n",
        "    <img src=\"https://www.tensorflow.org/images/GitHub-Mark-32px.png\" />\n",
        "    View source on GitHub</a>\n",
        "  </td>\n",
        "</table>"
      ]
    },
    {
      "cell_type": "markdown",
      "metadata": {
        "id": "8FeE3Sl3lcZP"
      },
      "source": [
        "In this week's exercise you will be working with TFDS and the rock-paper-scissors dataset. You'll do a few tasks such as exploring the info of the dataset in order to figure out the name of the splits. You'll also write code to see if the dataset supports the new S3 API before creating your own versions of the dataset."
      ]
    },
    {
      "cell_type": "markdown",
      "metadata": {
        "id": "Zps6-m-4lcZQ"
      },
      "source": [
        "## Setup"
      ]
    },
    {
      "cell_type": "code",
      "metadata": {
        "id": "jto2Pa1LlcZS"
      },
      "source": [
        "try:\n",
        "    %tensorflow_version 2.x\n",
        "except:\n",
        "    pass"
      ],
      "execution_count": null,
      "outputs": []
    },
    {
      "cell_type": "code",
      "metadata": {
        "id": "TTBSvHcSLBzc",
        "colab": {
          "base_uri": "https://localhost:8080/"
        },
        "outputId": "6fc036e6-cd8b-4ed2-c611-189232846e42"
      },
      "source": [
        "# Use all imports\n",
        "import tensorflow as tf\n",
        "import tensorflow_datasets as tfds\n",
        "\n",
        "print(\"\\u2022 Using TensorFlow Version:\", tf.__version__)"
      ],
      "execution_count": null,
      "outputs": [
        {
          "output_type": "stream",
          "name": "stdout",
          "text": [
            "• Using TensorFlow Version: 2.8.2\n"
          ]
        }
      ]
    },
    {
      "cell_type": "markdown",
      "metadata": {
        "id": "Emde9avNlcZf"
      },
      "source": [
        "## Extract the Rock, Paper, Scissors Dataset\n",
        "\n",
        "In the cell below, you will extract the `rock_paper_scissors` dataset and then print its info. Take note of the splits, what they're called, and their size."
      ]
    },
    {
      "cell_type": "code",
      "metadata": {
        "id": "KGsVrzy84WI2"
      },
      "source": [
        "# EXERCISE: Use tfds.load to extract the rock_paper_scissors dataset.\n",
        "\n",
        "data, info = tfds.load(\"rock_paper_scissors\", with_info=True)\n",
        "print(info)"
      ],
      "execution_count": null,
      "outputs": []
    },
    {
      "cell_type": "code",
      "metadata": {
        "id": "epPGTUqE5Z2E",
        "colab": {
          "base_uri": "https://localhost:8080/"
        },
        "outputId": "0e53a213-c100-427f-c31b-77d0dd046d4b"
      },
      "source": [
        "# EXERCISE: In the space below, write code that iterates through the splits\n",
        "# without hardcoding any keys. The code should extract 'test' and 'train' as\n",
        "# the keys, and then print out the number of items in the dataset for each key. \n",
        "# HINT: num_examples property is very useful here.\n",
        "\n",
        "for set in data:# YOUR CODE HERE\n",
        "  print(set,\":\", info.splits[set].num_examples)\n",
        "\n",
        "# EXPECTED OUTPUT\n",
        "# test:372\n",
        "# train:2520"
      ],
      "execution_count": null,
      "outputs": [
        {
          "output_type": "stream",
          "name": "stdout",
          "text": [
            "test : 372\n",
            "train : 2520\n"
          ]
        }
      ]
    },
    {
      "cell_type": "markdown",
      "metadata": {
        "id": "vGWwAhBDlcZ-"
      },
      "source": [
        "The original dataset doesn't have a validation set, just training and testing sets. In the cell below, you will use TFDS to create new datasets according to these rules:\n",
        "\n",
        "* `new_train`: The new training set should be the first 90% of the original training set.\n",
        "\n",
        "\n",
        "* `new_test`: The new test set should be the first 90% of the original test set.\n",
        "\n",
        "\n",
        "* `validation`: The new validation set should be the last 10% of the original training set + the last 10% of the original test set."
      ]
    },
    {
      "cell_type": "code",
      "metadata": {
        "id": "jL7KXYi17s_1",
        "colab": {
          "base_uri": "https://localhost:8080/"
        },
        "outputId": "4176dc92-689d-4df3-f8d6-4a0f747daabd"
      },
      "source": [
        "# In the space below, create 3 new datasets according to\n",
        "# the rules indicated above.\n",
        "\n",
        "#(Include the following arguments in your code: \"rock_paper_scissors:3.*.*\")\n",
        "new_train = tfds.load(\"rock_paper_scissors:3.*.*\", split='train[:90%]')\n",
        "print(len(list(new_train)))\n",
        "\n",
        "#(Include the following arguments in your code: \"rock_paper_scissors:3.*.*\")\n",
        "\n",
        "new_test = tfds.load(\"rock_paper_scissors:3.*.*\", split='test[:90%]')\n",
        "print(len(list(new_test)))\n",
        "\n",
        "#(Include the following arguments in your code: \"rock_paper_scissors:3.*.*\")\n",
        "validation = tfds.load(\"rock_paper_scissors:3.*.*\", split='train[90%:] + test[90%:]')\n",
        "print(len(list(validation)))\n",
        "\n",
        "# Expected output\n",
        "# 2268\n",
        "# 335\n",
        "# 289"
      ],
      "execution_count": null,
      "outputs": [
        {
          "output_type": "stream",
          "name": "stdout",
          "text": [
            "2268\n",
            "335\n",
            "289\n"
          ]
        }
      ]
    }
  ]
}
{
  "nbformat": 4,
  "nbformat_minor": 0,
  "metadata": {
    "colab": {
      "name": "Parallelization with TFDS .ipynb",
      "provenance": [],
      "collapsed_sections": []
    },
    "kernelspec": {
      "display_name": "Python 3",
      "language": "python",
      "name": "python3"
    },
    "language_info": {
      "codemirror_mode": {
        "name": "ipython",
        "version": 3
      },
      "file_extension": ".py",
      "mimetype": "text/x-python",
      "name": "python",
      "nbconvert_exporter": "python",
      "pygments_lexer": "ipython3",
      "version": "3.7.4"
    }
  },
  "cells": [
    {
      "cell_type": "markdown",
      "metadata": {
        "id": "view-in-github"
      },
      "source": [
        "<a href=\"https://colab.research.google.com/github/sergejhorvat/TensorFlow-Data-and-Deployment-Specialization/blob/master/Data%20Pipelines%20with%20TensorFlow%20Data%20Services/Week%204/Exercises/TFDS_Week4_Exercise.ipynb\" target=\"_parent\"><img src=\"https://colab.research.google.com/assets/colab-badge.svg\" alt=\"Open In Colab\"/></a>"
      ]
    },
    {
      "cell_type": "code",
      "metadata": {
        "id": "zX4Kg8DUTKWO"
      },
      "source": [
        "#@title Licensed under the Apache License, Version 2.0 (the \"License\");\n",
        "# you may not use this file except in compliance with the License.\n",
        "# You may obtain a copy of the License at\n",
        "#\n",
        "# https://www.apache.org/licenses/LICENSE-2.0\n",
        "#\n",
        "# Unless required by applicable law or agreed to in writing, software\n",
        "# distributed under the License is distributed on an \"AS IS\" BASIS,\n",
        "# WITHOUT WARRANTIES OR CONDITIONS OF ANY KIND, either express or implied.\n",
        "# See the License for the specific language governing permissions and\n",
        "# limitations under the License."
      ],
      "execution_count": null,
      "outputs": []
    },
    {
      "cell_type": "markdown",
      "metadata": {
        "id": "aKwi1_4l0wev"
      },
      "source": [
        "# Adding a Dataset of Your Own to TFDS"
      ]
    },
    {
      "cell_type": "markdown",
      "metadata": {
        "id": "unfk-7iGtjUD"
      },
      "source": [
        "<table class=\"tfo-notebook-buttons\" align=\"left\">\n",
        "  <td>\n",
        "    <a target=\"_blank\" href=\"https://colab.research.google.com/github/lmoroney/dlaicourse/blob/master/TensorFlow%20Deployment/Course%203%20-%20TensorFlow%20Datasets/Week%204/Exercises/TFDS_Week4_Exercise.ipynb\">\n",
        "    <img src=\"https://www.tensorflow.org/images/colab_logo_32px.png\" />\n",
        "    Run in Google Colab</a>\n",
        "  </td>\n",
        "  <td>\n",
        "    <a target=\"_blank\" href=\"https://github.com/lmoroney/dlaicourse/blob/master/TensorFlow%20Deployment/Course%203%20-%20TensorFlow%20Datasets/Week%204/Exercises/TFDS_Week4_Exercise.ipynb\">\n",
        "    <img src=\"https://www.tensorflow.org/images/GitHub-Mark-32px.png\" />\n",
        "    View source on GitHub</a>\n",
        "  </td>\n",
        "</table>"
      ]
    },
    {
      "cell_type": "markdown",
      "metadata": {
        "id": "j0RS9ZKrtjUF"
      },
      "source": [
        "## Setup"
      ]
    },
    {
      "cell_type": "code",
      "metadata": {
        "id": "2IJpVmmCtjUG"
      },
      "source": [
        "try:\n",
        "    %tensorflow_version 2.x\n",
        "except:\n",
        "    pass"
      ],
      "execution_count": null,
      "outputs": []
    },
    {
      "cell_type": "code",
      "metadata": {
        "id": "w9nZyRcLhtiX",
        "colab": {
          "base_uri": "https://localhost:8080/"
        },
        "outputId": "b132798f-84f4-4bf0-a16b-ee431e8a83b1"
      },
      "source": [
        "import os\n",
        "import textwrap\n",
        "import scipy.io\n",
        "import pandas as pd\n",
        "\n",
        "import tensorflow as tf\n",
        "\n",
        "print(\"\\u2022 Using TensorFlow Version:\", tf.__version__)"
      ],
      "execution_count": null,
      "outputs": [
        {
          "output_type": "stream",
          "name": "stdout",
          "text": [
            "• Using TensorFlow Version: 2.8.2\n"
          ]
        }
      ]
    },
    {
      "cell_type": "markdown",
      "metadata": {
        "id": "wooh61rn2FvF"
      },
      "source": [
        "## IMDB Faces Dataset\n",
        "\n",
        "This is the largest publicly available dataset of face images with gender and age labels for training.\n",
        "\n",
        "Source: https://data.vision.ee.ethz.ch/cvl/rrothe/imdb-wiki/\n",
        "\n",
        "The IMDb Faces dataset provides a separate .mat file which can be loaded with Matlab containing all the meta information. The format is as follows:  \n",
        "**dob**: date of birth (Matlab serial date number)  \n",
        "**photo_taken**: year when the photo was taken  \n",
        "**full_path**: path to file  \n",
        "**gender**: 0 for female and 1 for male, NaN if unknown  \n",
        "**name**: name of the celebrity  \n",
        "**face_location**: location of the face (bounding box)  \n",
        "**face_score**: detector score (the higher the better). Inf implies that no face was found in the image and the face_location then just returns the entire image  \n",
        "**second_face_score**: detector score of the face with the second highest score. This is useful to ignore images with more than one face. second_face_score is NaN if no second face was detected.  \n",
        "**celeb_names**: list of all celebrity names  \n",
        "**celeb_id**: index of celebrity name\n",
        "\n",
        "Here you can download the raw images and the metadata. We also provide a version with the cropped faces (with 40% margin). This version is much smaller."
      ]
    },
    {
      "cell_type": "code",
      "metadata": {
        "id": "LLJK-UKLtjUT",
        "colab": {
          "base_uri": "https://localhost:8080/"
        },
        "outputId": "9205b369-22b2-4a06-f45a-0e8635813ea0"
      },
      "source": [
        "# Download and extract the IMDB Faces dataset\n",
        "!wget https://data.vision.ee.ethz.ch/cvl/rrothe/imdb-wiki/static/imdb_crop.tar\n",
        "!tar xf imdb_crop.tar"
      ],
      "execution_count": null,
      "outputs": [
        {
          "output_type": "stream",
          "name": "stdout",
          "text": [
            "--2022-07-13 12:03:18--  https://data.vision.ee.ethz.ch/cvl/rrothe/imdb-wiki/static/imdb_crop.tar\n",
            "Resolving data.vision.ee.ethz.ch (data.vision.ee.ethz.ch)... 129.132.52.178, 2001:67c:10ec:36c2::178\n",
            "Connecting to data.vision.ee.ethz.ch (data.vision.ee.ethz.ch)|129.132.52.178|:443... connected.\n",
            "HTTP request sent, awaiting response... 200 OK\n",
            "Length: 7012157440 (6.5G) [application/x-tar]\n",
            "Saving to: ‘imdb_crop.tar’\n",
            "\n",
            "imdb_crop.tar       100%[===================>]   6.53G  19.8MB/s    in 6m 2s   \n",
            "\n",
            "2022-07-13 12:09:21 (18.5 MB/s) - ‘imdb_crop.tar’ saved [7012157440/7012157440]\n",
            "\n"
          ]
        }
      ]
    },
    {
      "cell_type": "markdown",
      "metadata": {
        "id": "m61jWK1otjUY"
      },
      "source": [
        "Next, let's inspect the dataset"
      ]
    },
    {
      "cell_type": "markdown",
      "metadata": {
        "id": "uspGC84pWmjR"
      },
      "source": [
        "## Exploring the Data"
      ]
    },
    {
      "cell_type": "code",
      "metadata": {
        "id": "sp7bUzZr3ZUQ",
        "colab": {
          "base_uri": "https://localhost:8080/"
        },
        "outputId": "31dd23d9-8705-4d2c-9c8e-4926a2723cdf"
      },
      "source": [
        "# Inspect the directory structure\n",
        "files = os.listdir('imdb_crop')\n",
        "print(textwrap.fill(' '.join(sorted(files)), 80))"
      ],
      "execution_count": null,
      "outputs": [
        {
          "output_type": "stream",
          "name": "stdout",
          "text": [
            "00 01 02 03 04 05 06 07 08 09 10 11 12 13 14 15 16 17 18 19 20 21 22 23 24 25 26\n",
            "27 28 29 30 31 32 33 34 35 36 37 38 39 40 41 42 43 44 45 46 47 48 49 50 51 52 53\n",
            "54 55 56 57 58 59 60 61 62 63 64 65 66 67 68 69 70 71 72 73 74 75 76 77 78 79 80\n",
            "81 82 83 84 85 86 87 88 89 90 91 92 93 94 95 96 97 98 99 imdb.mat\n"
          ]
        }
      ]
    },
    {
      "cell_type": "markdown",
      "metadata": {
        "id": "Z73hHGT9tjUj"
      },
      "source": [
        "**NOTE:** In the code below we have set `/content/` as the path to the `/imdb_crop/imdb.mat` file. This will work in Google's Colab environment without any modifications. However, if you are running this notebook locally, you should change `/content/` to the appropriate path to the `/imdb_crop/imdb.mat` file on your computer."
      ]
    },
    {
      "cell_type": "code",
      "metadata": {
        "id": "1aPlCn9E2PMj"
      },
      "source": [
        "# Inspect the meta data\n",
        "meta = scipy.io.loadmat('/content/imdb_crop/imdb.mat')"
      ],
      "execution_count": null,
      "outputs": []
    },
    {
      "cell_type": "code",
      "metadata": {
        "id": "aFj-jsz-6z-I",
        "colab": {
          "base_uri": "https://localhost:8080/"
        },
        "outputId": "de508c7c-9dac-4126-a473-c88d26cfeafc"
      },
      "source": [
        "meta"
      ],
      "execution_count": null,
      "outputs": [
        {
          "output_type": "execute_result",
          "data": {
            "text/plain": [
              "{'__globals__': [],\n",
              " '__header__': b'MATLAB 5.0 MAT-file, Platform: GLNXA64, Created on: Sun Jan 17 11:30:27 2016',\n",
              " '__version__': '1.0',\n",
              " 'imdb': array([[(array([[693726, 693726, 693726, ..., 726831, 726831, 726831]], dtype=int32), array([[1968, 1970, 1968, ..., 2011, 2011, 2011]], dtype=uint16), array([[array(['01/nm0000001_rm124825600_1899-5-10_1968.jpg'], dtype='<U43'),\n",
              "                 array(['01/nm0000001_rm3343756032_1899-5-10_1970.jpg'], dtype='<U44'),\n",
              "                 array(['01/nm0000001_rm577153792_1899-5-10_1968.jpg'], dtype='<U43'),\n",
              "                 ...,\n",
              "                 array(['08/nm3994408_rm926592512_1989-12-29_2011.jpg'], dtype='<U44'),\n",
              "                 array(['08/nm3994408_rm943369728_1989-12-29_2011.jpg'], dtype='<U44'),\n",
              "                 array(['08/nm3994408_rm976924160_1989-12-29_2011.jpg'], dtype='<U44')]],\n",
              "               dtype=object), array([[1., 1., 1., ..., 0., 0., 0.]]), array([[array(['Fred Astaire'], dtype='<U12'),\n",
              "                 array(['Fred Astaire'], dtype='<U12'),\n",
              "                 array(['Fred Astaire'], dtype='<U12'), ...,\n",
              "                 array(['Jane Levy'], dtype='<U9'),\n",
              "                 array(['Jane Levy'], dtype='<U9'),\n",
              "                 array(['Jane Levy'], dtype='<U9')]], dtype=object), array([[array([[1072.926,  161.838, 1214.784,  303.696]]),\n",
              "                 array([[477.184, 100.352, 622.592, 245.76 ]]),\n",
              "                 array([[114.96964309, 114.96964309, 451.68657236, 451.68657236]]),\n",
              "                 ..., array([[  1,   1, 453, 640]], dtype=uint16),\n",
              "                 array([[144.75225472, 126.76472288, 305.78804127, 287.80050943]]),\n",
              "                 array([[457.524,  41.748, 518.016, 102.24 ]])]], dtype=object), array([[1.45969291, 2.5431976 , 3.45557949, ...,       -inf, 4.45072452,\n",
              "                 2.13350269]]), array([[1.11897336, 1.85200773, 2.98566022, ...,        nan,        nan,\n",
              "                        nan]]), array([[array([\"'Lee' George Quinones\"], dtype='<U21'),\n",
              "                 array([\"'Weird Al' Yankovic\"], dtype='<U19'),\n",
              "                 array(['2 Chainz'], dtype='<U8'), ...,\n",
              "                 array(['Éric Caravaca'], dtype='<U13'),\n",
              "                 array(['Ólafur Darri Ólafsson'], dtype='<U21'),\n",
              "                 array(['Óscar Jaenada'], dtype='<U13')]], dtype=object), array([[6488, 6488, 6488, ..., 8410, 8410, 8410]], dtype=uint16))                                                                                           ]],\n",
              "       dtype=[('dob', 'O'), ('photo_taken', 'O'), ('full_path', 'O'), ('gender', 'O'), ('name', 'O'), ('face_location', 'O'), ('face_score', 'O'), ('second_face_score', 'O'), ('celeb_names', 'O'), ('celeb_id', 'O')])}"
            ]
          },
          "metadata": {},
          "execution_count": 7
        }
      ]
    },
    {
      "cell_type": "markdown",
      "metadata": {
        "id": "rnPmrXJ9XAkK"
      },
      "source": [
        "## Extraction"
      ]
    },
    {
      "cell_type": "markdown",
      "metadata": {
        "id": "zOBtgW6U_VgP"
      },
      "source": [
        "Let's clear up the clutter by going to the metadata's most useful key (imdb) and start exploring all the other keys inside it"
      ]
    },
    {
      "cell_type": "code",
      "metadata": {
        "id": "fgrZJWOA7RVa"
      },
      "source": [
        "root = meta['imdb'][0, 0]"
      ],
      "execution_count": null,
      "outputs": []
    },
    {
      "cell_type": "code",
      "metadata": {
        "id": "BqqaBw6Y7tku",
        "colab": {
          "base_uri": "https://localhost:8080/"
        },
        "outputId": "fbd202c0-d54c-47a3-eafb-124a882c8e79"
      },
      "source": [
        "desc = root.dtype.descr\n",
        "desc"
      ],
      "execution_count": null,
      "outputs": [
        {
          "output_type": "execute_result",
          "data": {
            "text/plain": [
              "[('dob', '|O'),\n",
              " ('photo_taken', '|O'),\n",
              " ('full_path', '|O'),\n",
              " ('gender', '|O'),\n",
              " ('name', '|O'),\n",
              " ('face_location', '|O'),\n",
              " ('face_score', '|O'),\n",
              " ('second_face_score', '|O'),\n",
              " ('celeb_names', '|O'),\n",
              " ('celeb_id', '|O')]"
            ]
          },
          "metadata": {},
          "execution_count": 9
        }
      ]
    },
    {
      "cell_type": "code",
      "metadata": {
        "id": "s3WJXw4G2cPk",
        "colab": {
          "base_uri": "https://localhost:8080/"
        },
        "outputId": "3c328e89-8772-49a3-86e9-3eda3b736490"
      },
      "source": [
        "# EXERCISE: Fill in the missing code below.\n",
        "\n",
        "full_path = root[\"full_path\"][0]\n",
        "\n",
        "# Do the same for other attributes\n",
        "names = root['name'][0] # YOUR CODE HERE\n",
        "dob = root['dob'][0]# YOUR CODE HERE\n",
        "gender = root['gender'][0]# YOUR CODE HERE\n",
        "photo_taken = root['photo_taken'][0]# YOUR CODE HERE\n",
        "face_score = root['face_score'][0]# YOUR CODE HERE\n",
        "face_locations = root['face_location'][0]# YOUR CODE HERE\n",
        "second_face_score = root['second_face_score'][0]# YOUR CODE HERE\n",
        "celeb_names = root['celeb_names'][0]# YOUR CODE HERE\n",
        "celeb_ids = root['celeb_id'][0]# YOUR CODE HERE\n",
        "\n",
        "print('Filepaths: {}\\n\\n'\n",
        "      'Names: {}\\n\\n'\n",
        "      'Dates of birth: {}\\n\\n'\n",
        "      'Genders: {}\\n\\n'\n",
        "      'Years when the photos were taken: {}\\n\\n'\n",
        "      'Face scores: {}\\n\\n'\n",
        "      'Face locations: {}\\n\\n'\n",
        "      'Second face scores: {}\\n\\n'\n",
        "      'Celeb IDs: {}\\n\\n'\n",
        "      .format(full_path, names, dob, gender, photo_taken, face_score, face_locations, second_face_score, celeb_ids))"
      ],
      "execution_count": null,
      "outputs": [
        {
          "output_type": "stream",
          "name": "stdout",
          "text": [
            "Filepaths: [array(['01/nm0000001_rm124825600_1899-5-10_1968.jpg'], dtype='<U43')\n",
            " array(['01/nm0000001_rm3343756032_1899-5-10_1970.jpg'], dtype='<U44')\n",
            " array(['01/nm0000001_rm577153792_1899-5-10_1968.jpg'], dtype='<U43') ...\n",
            " array(['08/nm3994408_rm926592512_1989-12-29_2011.jpg'], dtype='<U44')\n",
            " array(['08/nm3994408_rm943369728_1989-12-29_2011.jpg'], dtype='<U44')\n",
            " array(['08/nm3994408_rm976924160_1989-12-29_2011.jpg'], dtype='<U44')]\n",
            "\n",
            "Names: [array(['Fred Astaire'], dtype='<U12')\n",
            " array(['Fred Astaire'], dtype='<U12')\n",
            " array(['Fred Astaire'], dtype='<U12') ...\n",
            " array(['Jane Levy'], dtype='<U9') array(['Jane Levy'], dtype='<U9')\n",
            " array(['Jane Levy'], dtype='<U9')]\n",
            "\n",
            "Dates of birth: [693726 693726 693726 ... 726831 726831 726831]\n",
            "\n",
            "Genders: [1. 1. 1. ... 0. 0. 0.]\n",
            "\n",
            "Years when the photos were taken: [1968 1970 1968 ... 2011 2011 2011]\n",
            "\n",
            "Face scores: [1.45969291 2.5431976  3.45557949 ...       -inf 4.45072452 2.13350269]\n",
            "\n",
            "Face locations: [array([[1072.926,  161.838, 1214.784,  303.696]])\n",
            " array([[477.184, 100.352, 622.592, 245.76 ]])\n",
            " array([[114.96964309, 114.96964309, 451.68657236, 451.68657236]]) ...\n",
            " array([[  1,   1, 453, 640]], dtype=uint16)\n",
            " array([[144.75225472, 126.76472288, 305.78804127, 287.80050943]])\n",
            " array([[457.524,  41.748, 518.016, 102.24 ]])]\n",
            "\n",
            "Second face scores: [1.11897336 1.85200773 2.98566022 ...        nan        nan        nan]\n",
            "\n",
            "Celeb IDs: [6488 6488 6488 ... 8410 8410 8410]\n",
            "\n",
            "\n"
          ]
        }
      ]
    },
    {
      "cell_type": "code",
      "metadata": {
        "id": "zjKXJU1yEnMb",
        "colab": {
          "base_uri": "https://localhost:8080/"
        },
        "outputId": "ff60ea57-546d-4c9f-944b-0f05f8075f94"
      },
      "source": [
        "print('Celeb names: {}\\n\\n'.format(celeb_names))"
      ],
      "execution_count": null,
      "outputs": [
        {
          "output_type": "stream",
          "name": "stdout",
          "text": [
            "Celeb names: [array([\"'Lee' George Quinones\"], dtype='<U21')\n",
            " array([\"'Weird Al' Yankovic\"], dtype='<U19')\n",
            " array(['2 Chainz'], dtype='<U8') ...\n",
            " array(['Éric Caravaca'], dtype='<U13')\n",
            " array(['Ólafur Darri Ólafsson'], dtype='<U21')\n",
            " array(['Óscar Jaenada'], dtype='<U13')]\n",
            "\n",
            "\n"
          ]
        }
      ]
    },
    {
      "cell_type": "markdown",
      "metadata": {
        "id": "TT0un3eFXNW-"
      },
      "source": [
        "Display all the distinct keys and their corresponding values"
      ]
    },
    {
      "cell_type": "code",
      "metadata": {
        "id": "rYb98AUtC_fA",
        "colab": {
          "base_uri": "https://localhost:8080/"
        },
        "outputId": "accdc053-1ac7-418e-b374-564b06c8362a"
      },
      "source": [
        "names = [x[0] for x in desc]\n",
        "names"
      ],
      "execution_count": null,
      "outputs": [
        {
          "output_type": "execute_result",
          "data": {
            "text/plain": [
              "['dob',\n",
              " 'photo_taken',\n",
              " 'full_path',\n",
              " 'gender',\n",
              " 'name',\n",
              " 'face_location',\n",
              " 'face_score',\n",
              " 'second_face_score',\n",
              " 'celeb_names',\n",
              " 'celeb_id']"
            ]
          },
          "metadata": {},
          "execution_count": 12
        }
      ]
    },
    {
      "cell_type": "code",
      "metadata": {
        "id": "xJJ9j56hDvnN",
        "colab": {
          "base_uri": "https://localhost:8080/"
        },
        "outputId": "e23af34f-6880-4ca4-dc73-f42f62c0bb96"
      },
      "source": [
        "values = {key: root[key][0] for key in names}\n",
        "values"
      ],
      "execution_count": null,
      "outputs": [
        {
          "output_type": "execute_result",
          "data": {
            "text/plain": [
              "{'celeb_id': array([6488, 6488, 6488, ..., 8410, 8410, 8410], dtype=uint16),\n",
              " 'celeb_names': array([array([\"'Lee' George Quinones\"], dtype='<U21'),\n",
              "        array([\"'Weird Al' Yankovic\"], dtype='<U19'),\n",
              "        array(['2 Chainz'], dtype='<U8'), ...,\n",
              "        array(['Éric Caravaca'], dtype='<U13'),\n",
              "        array(['Ólafur Darri Ólafsson'], dtype='<U21'),\n",
              "        array(['Óscar Jaenada'], dtype='<U13')], dtype=object),\n",
              " 'dob': array([693726, 693726, 693726, ..., 726831, 726831, 726831], dtype=int32),\n",
              " 'face_location': array([array([[1072.926,  161.838, 1214.784,  303.696]]),\n",
              "        array([[477.184, 100.352, 622.592, 245.76 ]]),\n",
              "        array([[114.96964309, 114.96964309, 451.68657236, 451.68657236]]),\n",
              "        ..., array([[  1,   1, 453, 640]], dtype=uint16),\n",
              "        array([[144.75225472, 126.76472288, 305.78804127, 287.80050943]]),\n",
              "        array([[457.524,  41.748, 518.016, 102.24 ]])], dtype=object),\n",
              " 'face_score': array([1.45969291, 2.5431976 , 3.45557949, ...,       -inf, 4.45072452,\n",
              "        2.13350269]),\n",
              " 'full_path': array([array(['01/nm0000001_rm124825600_1899-5-10_1968.jpg'], dtype='<U43'),\n",
              "        array(['01/nm0000001_rm3343756032_1899-5-10_1970.jpg'], dtype='<U44'),\n",
              "        array(['01/nm0000001_rm577153792_1899-5-10_1968.jpg'], dtype='<U43'),\n",
              "        ...,\n",
              "        array(['08/nm3994408_rm926592512_1989-12-29_2011.jpg'], dtype='<U44'),\n",
              "        array(['08/nm3994408_rm943369728_1989-12-29_2011.jpg'], dtype='<U44'),\n",
              "        array(['08/nm3994408_rm976924160_1989-12-29_2011.jpg'], dtype='<U44')],\n",
              "       dtype=object),\n",
              " 'gender': array([1., 1., 1., ..., 0., 0., 0.]),\n",
              " 'name': array([array(['Fred Astaire'], dtype='<U12'),\n",
              "        array(['Fred Astaire'], dtype='<U12'),\n",
              "        array(['Fred Astaire'], dtype='<U12'), ...,\n",
              "        array(['Jane Levy'], dtype='<U9'),\n",
              "        array(['Jane Levy'], dtype='<U9'),\n",
              "        array(['Jane Levy'], dtype='<U9')], dtype=object),\n",
              " 'photo_taken': array([1968, 1970, 1968, ..., 2011, 2011, 2011], dtype=uint16),\n",
              " 'second_face_score': array([1.11897336, 1.85200773, 2.98566022, ...,        nan,        nan,\n",
              "               nan])}"
            ]
          },
          "metadata": {},
          "execution_count": 13
        }
      ]
    },
    {
      "cell_type": "markdown",
      "metadata": {
        "id": "lYob5mjgXpuy"
      },
      "source": [
        "## Cleanup"
      ]
    },
    {
      "cell_type": "markdown",
      "metadata": {
        "id": "3YRjp2gpXbRA"
      },
      "source": [
        "Pop out the celeb names as they are not relevant for creating the records."
      ]
    },
    {
      "cell_type": "code",
      "metadata": {
        "id": "VRi5bcqnFBua",
        "colab": {
          "base_uri": "https://localhost:8080/",
          "height": 36
        },
        "outputId": "a340a64f-74ab-49b7-fe13-bff0d03d85be"
      },
      "source": [
        "del values['celeb_names']\n",
        "names.pop(names.index('celeb_names'))"
      ],
      "execution_count": null,
      "outputs": [
        {
          "output_type": "execute_result",
          "data": {
            "text/plain": [
              "'celeb_names'"
            ],
            "application/vnd.google.colaboratory.intrinsic+json": {
              "type": "string"
            }
          },
          "metadata": {},
          "execution_count": 14
        }
      ]
    },
    {
      "cell_type": "markdown",
      "metadata": {
        "id": "V2uhpASzXhuy"
      },
      "source": [
        "Let's see how many values are present in each key"
      ]
    },
    {
      "cell_type": "code",
      "metadata": {
        "id": "4Zu_L_QFEPEm",
        "colab": {
          "base_uri": "https://localhost:8080/"
        },
        "outputId": "f2ef3162-649c-4546-9bf0-f01e0c6c2905"
      },
      "source": [
        "for key, value in values.items():\n",
        "    print(key, len(value))"
      ],
      "execution_count": null,
      "outputs": [
        {
          "output_type": "stream",
          "name": "stdout",
          "text": [
            "dob 460723\n",
            "photo_taken 460723\n",
            "full_path 460723\n",
            "gender 460723\n",
            "name 460723\n",
            "face_location 460723\n",
            "face_score 460723\n",
            "second_face_score 460723\n",
            "celeb_id 460723\n"
          ]
        }
      ]
    },
    {
      "cell_type": "markdown",
      "metadata": {
        "id": "uJUvw-MBXuKb"
      },
      "source": [
        "## Dataframe"
      ]
    },
    {
      "cell_type": "markdown",
      "metadata": {
        "id": "2_uZu2ZQ_169"
      },
      "source": [
        "Now, let's try examining one example from the dataset. To do this, let's load all the attributes that we've extracted just now into a Pandas dataframe"
      ]
    },
    {
      "cell_type": "code",
      "metadata": {
        "id": "x-O0pLwWAREq",
        "colab": {
          "base_uri": "https://localhost:8080/",
          "height": 206
        },
        "outputId": "c5f99db6-670a-48c9-cb3c-e94029016275"
      },
      "source": [
        "df = pd.DataFrame(values, columns=names)\n",
        "df.head()"
      ],
      "execution_count": null,
      "outputs": [
        {
          "output_type": "execute_result",
          "data": {
            "text/plain": [
              "      dob  photo_taken                                       full_path  \\\n",
              "0  693726         1968   [01/nm0000001_rm124825600_1899-5-10_1968.jpg]   \n",
              "1  693726         1970  [01/nm0000001_rm3343756032_1899-5-10_1970.jpg]   \n",
              "2  693726         1968   [01/nm0000001_rm577153792_1899-5-10_1968.jpg]   \n",
              "3  693726         1968   [01/nm0000001_rm946909184_1899-5-10_1968.jpg]   \n",
              "4  693726         1968   [01/nm0000001_rm980463616_1899-5-10_1968.jpg]   \n",
              "\n",
              "   gender            name                                      face_location  \\\n",
              "0     1.0  [Fred Astaire]  [[1072.926, 161.838, 1214.7839999999999, 303.6...   \n",
              "1     1.0  [Fred Astaire]              [[477.184, 100.352, 622.592, 245.76]]   \n",
              "2     1.0  [Fred Astaire]  [[114.96964308962852, 114.96964308962852, 451....   \n",
              "3     1.0  [Fred Astaire]  [[622.8855056426588, 424.21750383700805, 844.3...   \n",
              "4     1.0  [Fred Astaire]  [[1013.8590023603723, 233.8820422075853, 1201....   \n",
              "\n",
              "   face_score  second_face_score  celeb_id  \n",
              "0    1.459693           1.118973      6488  \n",
              "1    2.543198           1.852008      6488  \n",
              "2    3.455579           2.985660      6488  \n",
              "3    1.872117                NaN      6488  \n",
              "4    1.158766                NaN      6488  "
            ],
            "text/html": [
              "\n",
              "  <div id=\"df-b6395c55-5c8a-4dfb-882a-307e6ce00a5f\">\n",
              "    <div class=\"colab-df-container\">\n",
              "      <div>\n",
              "<style scoped>\n",
              "    .dataframe tbody tr th:only-of-type {\n",
              "        vertical-align: middle;\n",
              "    }\n",
              "\n",
              "    .dataframe tbody tr th {\n",
              "        vertical-align: top;\n",
              "    }\n",
              "\n",
              "    .dataframe thead th {\n",
              "        text-align: right;\n",
              "    }\n",
              "</style>\n",
              "<table border=\"1\" class=\"dataframe\">\n",
              "  <thead>\n",
              "    <tr style=\"text-align: right;\">\n",
              "      <th></th>\n",
              "      <th>dob</th>\n",
              "      <th>photo_taken</th>\n",
              "      <th>full_path</th>\n",
              "      <th>gender</th>\n",
              "      <th>name</th>\n",
              "      <th>face_location</th>\n",
              "      <th>face_score</th>\n",
              "      <th>second_face_score</th>\n",
              "      <th>celeb_id</th>\n",
              "    </tr>\n",
              "  </thead>\n",
              "  <tbody>\n",
              "    <tr>\n",
              "      <th>0</th>\n",
              "      <td>693726</td>\n",
              "      <td>1968</td>\n",
              "      <td>[01/nm0000001_rm124825600_1899-5-10_1968.jpg]</td>\n",
              "      <td>1.0</td>\n",
              "      <td>[Fred Astaire]</td>\n",
              "      <td>[[1072.926, 161.838, 1214.7839999999999, 303.6...</td>\n",
              "      <td>1.459693</td>\n",
              "      <td>1.118973</td>\n",
              "      <td>6488</td>\n",
              "    </tr>\n",
              "    <tr>\n",
              "      <th>1</th>\n",
              "      <td>693726</td>\n",
              "      <td>1970</td>\n",
              "      <td>[01/nm0000001_rm3343756032_1899-5-10_1970.jpg]</td>\n",
              "      <td>1.0</td>\n",
              "      <td>[Fred Astaire]</td>\n",
              "      <td>[[477.184, 100.352, 622.592, 245.76]]</td>\n",
              "      <td>2.543198</td>\n",
              "      <td>1.852008</td>\n",
              "      <td>6488</td>\n",
              "    </tr>\n",
              "    <tr>\n",
              "      <th>2</th>\n",
              "      <td>693726</td>\n",
              "      <td>1968</td>\n",
              "      <td>[01/nm0000001_rm577153792_1899-5-10_1968.jpg]</td>\n",
              "      <td>1.0</td>\n",
              "      <td>[Fred Astaire]</td>\n",
              "      <td>[[114.96964308962852, 114.96964308962852, 451....</td>\n",
              "      <td>3.455579</td>\n",
              "      <td>2.985660</td>\n",
              "      <td>6488</td>\n",
              "    </tr>\n",
              "    <tr>\n",
              "      <th>3</th>\n",
              "      <td>693726</td>\n",
              "      <td>1968</td>\n",
              "      <td>[01/nm0000001_rm946909184_1899-5-10_1968.jpg]</td>\n",
              "      <td>1.0</td>\n",
              "      <td>[Fred Astaire]</td>\n",
              "      <td>[[622.8855056426588, 424.21750383700805, 844.3...</td>\n",
              "      <td>1.872117</td>\n",
              "      <td>NaN</td>\n",
              "      <td>6488</td>\n",
              "    </tr>\n",
              "    <tr>\n",
              "      <th>4</th>\n",
              "      <td>693726</td>\n",
              "      <td>1968</td>\n",
              "      <td>[01/nm0000001_rm980463616_1899-5-10_1968.jpg]</td>\n",
              "      <td>1.0</td>\n",
              "      <td>[Fred Astaire]</td>\n",
              "      <td>[[1013.8590023603723, 233.8820422075853, 1201....</td>\n",
              "      <td>1.158766</td>\n",
              "      <td>NaN</td>\n",
              "      <td>6488</td>\n",
              "    </tr>\n",
              "  </tbody>\n",
              "</table>\n",
              "</div>\n",
              "      <button class=\"colab-df-convert\" onclick=\"convertToInteractive('df-b6395c55-5c8a-4dfb-882a-307e6ce00a5f')\"\n",
              "              title=\"Convert this dataframe to an interactive table.\"\n",
              "              style=\"display:none;\">\n",
              "        \n",
              "  <svg xmlns=\"http://www.w3.org/2000/svg\" height=\"24px\"viewBox=\"0 0 24 24\"\n",
              "       width=\"24px\">\n",
              "    <path d=\"M0 0h24v24H0V0z\" fill=\"none\"/>\n",
              "    <path d=\"M18.56 5.44l.94 2.06.94-2.06 2.06-.94-2.06-.94-.94-2.06-.94 2.06-2.06.94zm-11 1L8.5 8.5l.94-2.06 2.06-.94-2.06-.94L8.5 2.5l-.94 2.06-2.06.94zm10 10l.94 2.06.94-2.06 2.06-.94-2.06-.94-.94-2.06-.94 2.06-2.06.94z\"/><path d=\"M17.41 7.96l-1.37-1.37c-.4-.4-.92-.59-1.43-.59-.52 0-1.04.2-1.43.59L10.3 9.45l-7.72 7.72c-.78.78-.78 2.05 0 2.83L4 21.41c.39.39.9.59 1.41.59.51 0 1.02-.2 1.41-.59l7.78-7.78 2.81-2.81c.8-.78.8-2.07 0-2.86zM5.41 20L4 18.59l7.72-7.72 1.47 1.35L5.41 20z\"/>\n",
              "  </svg>\n",
              "      </button>\n",
              "      \n",
              "  <style>\n",
              "    .colab-df-container {\n",
              "      display:flex;\n",
              "      flex-wrap:wrap;\n",
              "      gap: 12px;\n",
              "    }\n",
              "\n",
              "    .colab-df-convert {\n",
              "      background-color: #E8F0FE;\n",
              "      border: none;\n",
              "      border-radius: 50%;\n",
              "      cursor: pointer;\n",
              "      display: none;\n",
              "      fill: #1967D2;\n",
              "      height: 32px;\n",
              "      padding: 0 0 0 0;\n",
              "      width: 32px;\n",
              "    }\n",
              "\n",
              "    .colab-df-convert:hover {\n",
              "      background-color: #E2EBFA;\n",
              "      box-shadow: 0px 1px 2px rgba(60, 64, 67, 0.3), 0px 1px 3px 1px rgba(60, 64, 67, 0.15);\n",
              "      fill: #174EA6;\n",
              "    }\n",
              "\n",
              "    [theme=dark] .colab-df-convert {\n",
              "      background-color: #3B4455;\n",
              "      fill: #D2E3FC;\n",
              "    }\n",
              "\n",
              "    [theme=dark] .colab-df-convert:hover {\n",
              "      background-color: #434B5C;\n",
              "      box-shadow: 0px 1px 3px 1px rgba(0, 0, 0, 0.15);\n",
              "      filter: drop-shadow(0px 1px 2px rgba(0, 0, 0, 0.3));\n",
              "      fill: #FFFFFF;\n",
              "    }\n",
              "  </style>\n",
              "\n",
              "      <script>\n",
              "        const buttonEl =\n",
              "          document.querySelector('#df-b6395c55-5c8a-4dfb-882a-307e6ce00a5f button.colab-df-convert');\n",
              "        buttonEl.style.display =\n",
              "          google.colab.kernel.accessAllowed ? 'block' : 'none';\n",
              "\n",
              "        async function convertToInteractive(key) {\n",
              "          const element = document.querySelector('#df-b6395c55-5c8a-4dfb-882a-307e6ce00a5f');\n",
              "          const dataTable =\n",
              "            await google.colab.kernel.invokeFunction('convertToInteractive',\n",
              "                                                     [key], {});\n",
              "          if (!dataTable) return;\n",
              "\n",
              "          const docLinkHtml = 'Like what you see? Visit the ' +\n",
              "            '<a target=\"_blank\" href=https://colab.research.google.com/notebooks/data_table.ipynb>data table notebook</a>'\n",
              "            + ' to learn more about interactive tables.';\n",
              "          element.innerHTML = '';\n",
              "          dataTable['output_type'] = 'display_data';\n",
              "          await google.colab.output.renderOutput(dataTable, element);\n",
              "          const docLink = document.createElement('div');\n",
              "          docLink.innerHTML = docLinkHtml;\n",
              "          element.appendChild(docLink);\n",
              "        }\n",
              "      </script>\n",
              "    </div>\n",
              "  </div>\n",
              "  "
            ]
          },
          "metadata": {},
          "execution_count": 16
        }
      ]
    },
    {
      "cell_type": "markdown",
      "metadata": {
        "id": "w-wdFD8uIyRf"
      },
      "source": [
        "The Pandas dataframe may contain some Null values or nan. We will have to filter them later on."
      ]
    },
    {
      "cell_type": "code",
      "metadata": {
        "id": "YGsTHc2VIoJh",
        "colab": {
          "base_uri": "https://localhost:8080/"
        },
        "outputId": "9f7d1c31-2bc5-4cac-ba29-ca7f2318a128"
      },
      "source": [
        "df.isna().sum()"
      ],
      "execution_count": null,
      "outputs": [
        {
          "output_type": "execute_result",
          "data": {
            "text/plain": [
              "dob                       0\n",
              "photo_taken               0\n",
              "full_path                 0\n",
              "gender                 8462\n",
              "name                      0\n",
              "face_location             0\n",
              "face_score                0\n",
              "second_face_score    246926\n",
              "celeb_id                  0\n",
              "dtype: int64"
            ]
          },
          "metadata": {},
          "execution_count": 17
        }
      ]
    },
    {
      "cell_type": "markdown",
      "metadata": {
        "id": "DS-9rLTR065l"
      },
      "source": [
        "# TensorFlow Datasets\n",
        "\n",
        "TFDS provides a way to transform all those datasets into a standard format, do the preprocessing necessary to make them ready for a machine learning pipeline, and provides a standard input pipeline using `tf.data`.\n",
        "\n",
        "To enable this, each dataset implements a subclass of `DatasetBuilder`, which specifies:\n",
        "\n",
        "* Where the data is coming from (i.e. its URL). \n",
        "* What the dataset looks like (i.e. its features).  \n",
        "* How the data should be split (e.g. TRAIN and TEST). \n",
        "* The individual records in the dataset.\n",
        "\n",
        "The first time a dataset is used, the dataset is downloaded, prepared, and written to disk in a standard format. Subsequent access will read from those pre-processed files directly."
      ]
    },
    {
      "cell_type": "markdown",
      "metadata": {
        "id": "6bGCSA-jX0Uw"
      },
      "source": [
        "## Clone the TFDS Repository\n",
        "\n",
        "The next step will be to clone the GitHub TFDS Repository. For this particular notebook, we will clone a particular version of the repository. You can clone the repository by running the following command:"
      ]
    },
    {
      "cell_type": "code",
      "metadata": {
        "id": "d2nVEOLRtjVl",
        "colab": {
          "base_uri": "https://localhost:8080/"
        },
        "outputId": "3cf8f53d-4dee-40ea-efdb-e3fac0b7d944"
      },
      "source": [
        "!git clone https://github.com/tensorflow/datasets.git -b v1.2.0"
      ],
      "execution_count": null,
      "outputs": [
        {
          "output_type": "stream",
          "name": "stdout",
          "text": [
            "Cloning into 'datasets'...\n",
            "remote: Enumerating objects: 79525, done.\u001b[K\n",
            "remote: Counting objects: 100% (275/275), done.\u001b[K\n",
            "remote: Compressing objects: 100% (88/88), done.\u001b[K\n",
            "remote: Total 79525 (delta 195), reused 247 (delta 187), pack-reused 79250\u001b[K\n",
            "Receiving objects: 100% (79525/79525), 955.55 MiB | 20.79 MiB/s, done.\n",
            "Resolving deltas: 100% (54981/54981), done.\n",
            "Note: checking out 'dc4b79f5c4dbdb0db1c5b614f8d790bdc0013de1'.\n",
            "\n",
            "You are in 'detached HEAD' state. You can look around, make experimental\n",
            "changes and commit them, and you can discard any commits you make in this\n",
            "state without impacting any branches by performing another checkout.\n",
            "\n",
            "If you want to create a new branch to retain commits you create, you may\n",
            "do so (now or later) by using -b with the checkout command again. Example:\n",
            "\n",
            "  git checkout -b <new-branch-name>\n",
            "\n",
            "Checking out files: 100% (4185/4185), done.\n"
          ]
        }
      ]
    },
    {
      "cell_type": "markdown",
      "metadata": {
        "id": "FvsbE3-qtjVo"
      },
      "source": [
        "Next, we set the current working directory to `/content/datasets`.\n",
        "\n",
        "**NOTE:** Here we have set `/content/` as the path to the `/datasets/` directory. This will work in Google's Colab environment without any modifications. However, if you are running this notebook locally, you should change `/content/` to the appropriate path to the `/datasets/` directory on your computer."
      ]
    },
    {
      "cell_type": "code",
      "metadata": {
        "id": "KhYXnLCf5F-Y",
        "colab": {
          "base_uri": "https://localhost:8080/"
        },
        "outputId": "27ef6423-2c5a-4732-b0fb-58009459027c"
      },
      "source": [
        "cd /content/datasets"
      ],
      "execution_count": null,
      "outputs": [
        {
          "output_type": "stream",
          "name": "stdout",
          "text": [
            "/content/datasets\n"
          ]
        }
      ]
    },
    {
      "cell_type": "markdown",
      "metadata": {
        "id": "a5UbwBVRTmb2"
      },
      "source": [
        "Now we will use IPython's `%%writefile` in-built magic command to write whatever is in the current cell into a file. To create or overwrite a file you can use:\n",
        "```\n",
        "%%writefile filename\n",
        "```\n",
        "\n",
        "Let's see an example:"
      ]
    },
    {
      "cell_type": "code",
      "metadata": {
        "id": "qkspG9KV7X7i",
        "colab": {
          "base_uri": "https://localhost:8080/"
        },
        "outputId": "d2bb7214-1074-4889-ec47-fb324751159e"
      },
      "source": [
        "%%writefile something.py\n",
        "x = 10"
      ],
      "execution_count": null,
      "outputs": [
        {
          "output_type": "stream",
          "name": "stdout",
          "text": [
            "Writing something.py\n"
          ]
        }
      ]
    },
    {
      "cell_type": "markdown",
      "metadata": {
        "id": "TQ--c2h0K6R1"
      },
      "source": [
        "Now that the file has been written, let's inspect its contents."
      ]
    },
    {
      "cell_type": "code",
      "metadata": {
        "id": "VqBEa9UrK4-Z",
        "colab": {
          "base_uri": "https://localhost:8080/"
        },
        "outputId": "dd9803e3-7146-45c4-8dfb-cabcb382faf3"
      },
      "source": [
        "!cat something.py"
      ],
      "execution_count": null,
      "outputs": [
        {
          "output_type": "stream",
          "name": "stdout",
          "text": [
            "x = 10"
          ]
        }
      ]
    },
    {
      "cell_type": "markdown",
      "metadata": {
        "id": "UJT2Mh-bYmYa"
      },
      "source": [
        "## Define the Dataset with `GeneratorBasedBuilder`\n",
        "\n",
        "Most datasets subclass `tfds.core.GeneratorBasedBuilder`, which is a subclass of `tfds.core.DatasetBuilder` that simplifies defining a dataset. It works well for datasets that can be generated on a single machine. Its subclasses implement:\n",
        "\n",
        "* `_info`: builds the DatasetInfo object describing the dataset\n",
        "\n",
        "\n",
        "* `_split_generators`: downloads the source data and defines the dataset splits\n",
        "\n",
        "\n",
        "* `_generate_examples`: yields (key, example) tuples in the dataset from the source data\n",
        "\n",
        "In this exercise, you will use the `GeneratorBasedBuilder`.\n",
        "\n",
        "### EXERCISE: Fill in the missing code below."
      ]
    },
    {
      "cell_type": "code",
      "metadata": {
        "id": "cYyTvIoO7FqS",
        "colab": {
          "base_uri": "https://localhost:8080/"
        },
        "outputId": "4724dda0-babf-4cdf-a3e5-eab0a1d65e14"
      },
      "source": [
        "%%writefile tensorflow_datasets/image/imdb_faces.py\n",
        "\n",
        "# coding=utf-8\n",
        "# Copyright 2019 The TensorFlow Datasets Authors.\n",
        "#\n",
        "# Licensed under the Apache License, Version 2.0 (the \"License\");\n",
        "# you may not use this file except in compliance with the License.\n",
        "# You may obtain a copy of the License at\n",
        "#\n",
        "#     http://www.apache.org/licenses/LICENSE-2.0\n",
        "#\n",
        "# Unless required by applicable law or agreed to in writing, software\n",
        "# distributed under the License is distributed on an \"AS IS\" BASIS,\n",
        "# WITHOUT WARRANTIES OR CONDITIONS OF ANY KIND, either express or implied.\n",
        "# See the License for the specific language governing permissions and\n",
        "# limitations under the License.\n",
        "\n",
        "\"\"\"IMDB Faces dataset.\"\"\"\n",
        "from __future__ import absolute_import\n",
        "from __future__ import division\n",
        "from __future__ import print_function\n",
        "\n",
        "import collections\n",
        "import os\n",
        "import re\n",
        "\n",
        "import tensorflow as tf\n",
        "import tensorflow_datasets.public_api as tfds\n",
        "\n",
        "_DESCRIPTION = \"\"\"\\\n",
        "Since the publicly available face image datasets are often of small to medium size, rarely exceeding tens of thousands of images, and often without age information we decided to collect a large dataset of celebrities. For this purpose, we took the list of the most popular 100,000 actors as listed on the IMDb website and (automatically) crawled from their profiles date of birth, name, gender and all images related to that person. Additionally we crawled all profile images from pages of people from Wikipedia with the same meta information. We removed the images without timestamp (the date when the photo was taken). Assuming that the images with single faces are likely to show the actor and that the timestamp and date of birth are correct, we were able to assign to each such image the biological (real) age. Of course, we can not vouch for the accuracy of the assigned age information. Besides wrong timestamps, many images are stills from movies - movies that can have extended production times. In total we obtained 460,723 face images from 20,284 celebrities from IMDb and 62,328 from Wikipedia, thus 523,051 in total.\n",
        "\n",
        "As some of the images (especially from IMDb) contain several people we only use the photos where the second strongest face detection is below a threshold. For the network to be equally discriminative for all ages, we equalize the age distribution for training. For more details please the see the paper. \n",
        "\"\"\"\n",
        "\n",
        "_URL = (\"https://data.vision.ee.ethz.ch/cvl/rrothe/imdb-wiki/\")\n",
        "_DATASET_ROOT_DIR = 'imdb_crop' # Put the name of the dataset root directory here\n",
        "_ANNOTATION_FILE = 'imdb.mat' # Put the name of annotation file here (.mat file)\n",
        "\n",
        "\n",
        "_CITATION = \"\"\"\\\n",
        "@article{Rothe-IJCV-2016,\n",
        "  author = {Rasmus Rothe and Radu Timofte and Luc Van Gool},\n",
        "  title = {Deep expectation of real and apparent age from a single image without facial landmarks},\n",
        "  journal = {International Journal of Computer Vision},\n",
        "  volume={126},\n",
        "  number={2-4},\n",
        "  pages={144--157},\n",
        "  year={2018},\n",
        "  publisher={Springer}\n",
        "}\n",
        "@InProceedings{Rothe-ICCVW-2015,\n",
        "  author = {Rasmus Rothe and Radu Timofte and Luc Van Gool},\n",
        "  title = {DEX: Deep EXpectation of apparent age from a single image},\n",
        "  booktitle = {IEEE International Conference on Computer Vision Workshops (ICCVW)},\n",
        "  year = {2015},\n",
        "  month = {December},\n",
        "}\n",
        "\"\"\"\n",
        "\n",
        "# Source URL of the IMDB faces dataset\n",
        "_TARBALL_URL = \"https://data.vision.ee.ethz.ch/cvl/rrothe/imdb-wiki/static/imdb_crop.tar\"\n",
        "\n",
        "class ImdbFaces(tfds.core.GeneratorBasedBuilder):\n",
        "  \"\"\"IMDB Faces dataset.\"\"\"\n",
        "\n",
        "  VERSION = tfds.core.Version(\"0.1.0\")\n",
        "  \n",
        "  def _info(self):\n",
        "    return tfds.core.DatasetInfo(\n",
        "        builder=self,\n",
        "        description=_DESCRIPTION,\n",
        "        # Describe the features of the dataset by following this url\n",
        "        # https://www.tensorflow.org/datasets/api_docs/python/tfds/features\n",
        "        features=tfds.features.FeaturesDict({\n",
        "            \"image\":tfds.features.Image(), # Create a tfds Image feature here\n",
        "            \"gender\":tfds.features.ClassLabel(num_classes=2),  # Create a tfds Class Label feature here for the two classes (Female, Male)\n",
        "            \"dob\":tf.int32, # YOUR CODE HERE\n",
        "            \"photo_taken\":tf.int32, # YOUR CODE HERE\n",
        "            \"face_location\":tfds.features.BBoxFeature(), # Create a tfds Bounding box feature here\n",
        "            \"face_score\":tf.float32, # YOUR CODE HERE\n",
        "            \"second_face_score\":tf.float32, # YOUR CODE HERE\n",
        "            \"celeb_id\":tf.int32 # YOUR CODE HERE\n",
        "        }),\n",
        "        supervised_keys=(\"image\", \"gender\"),\n",
        "        urls=[_URL],\n",
        "        citation=_CITATION)\n",
        "\n",
        "  def _split_generators(self, dl_manager):\n",
        "    # Download the dataset and then extract it.\n",
        "    download_path = dl_manager.download([_TARBALL_URL])\n",
        "    extracted_path = dl_manager.download_and_extract([_TARBALL_URL])\n",
        "\n",
        "    # Parsing the mat file which contains the list of train images\n",
        "    def parse_mat_file(file_name):\n",
        "      with tf.io.gfile.GFile(file_name, \"rb\") as f:\n",
        "        # Add a lazy import for scipy.io and import the loadmat method to \n",
        "        # load the annotation file\n",
        "        dataset = tfds.core.lazy_imports.scipy.io.loadmat(file_name)# YOUR CODE HERE\n",
        "      return dataset\n",
        "\n",
        "    # Parsing the mat file by using scipy's loadmat method\n",
        "    # Pass the path to the annotation file using the downloaded/extracted paths above\n",
        "    meta = parse_mat_file(os.path.join(extracted_path[0], _DATASET_ROOT_DIR, _ANNOTATION_FILE))# YOUR CODE HERE)\n",
        "\n",
        "    # Get the names of celebrities from the metadata\n",
        "    # celeb_names = meta[0,0][\"celeb_names\"][0]  # YOUR CODE HERE\n",
        "    celeb_names = meta['imdb'][\"celeb_names\"][0]# YOUR CODE HERE\n",
        "\n",
        "    # Create tuples out of the distinct set of genders and celeb names\n",
        "    self.info.features['gender'].names = tuple(\"Female\",\"Male\") # YOUR CODE HERE\n",
        "    self.info.features['celeb_id'].names = tuple([x[0] for x in celeb_names]) # YOUR CODE HERE\n",
        "\n",
        "    return [\n",
        "        tfds.core.SplitGenerator(\n",
        "            name=tfds.Split.TRAIN,\n",
        "            gen_kwargs={\n",
        "                \"image_dir\": extracted_path[0],\n",
        "                \"metadata\": meta,\n",
        "            })\n",
        "    ]\n",
        "\n",
        "  def _get_bounding_box_values(self, bbox_annotations, img_width, img_height):\n",
        "    \"\"\"Function to get normalized bounding box values.\n",
        "\n",
        "    Args:\n",
        "      bbox_annotations: list of bbox values in kitti format\n",
        "      img_width: image width\n",
        "      img_height: image height\n",
        "\n",
        "    Returns:\n",
        "      Normalized bounding box xmin, ymin, xmax, ymax values\n",
        "    \"\"\"\n",
        "\n",
        "    ymin = bbox_annotations[0] / img_height\n",
        "    xmin = bbox_annotations[1] / img_width\n",
        "    ymax = bbox_annotations[2] / img_height\n",
        "    xmax = bbox_annotations[3] / img_width\n",
        "    return ymin, xmin, ymax, xmax\n",
        "  \n",
        "  def _get_image_shape(self, image_path):\n",
        "    image = tf.io.read_file(image_path)\n",
        "    image = tf.image.decode_image(image, channels=3)\n",
        "    shape = image.shape[:2]\n",
        "    return shape\n",
        "\n",
        "  def _generate_examples(self, image_dir, metadata):\n",
        "    # Add a lazy import for pandas here (pd)\n",
        "    pd = tfds.core.lazy_imports.pandas# YOUR CODE HERE\n",
        "\n",
        "    # Extract the root dictionary from the metadata so that you can query all the keys inside it\n",
        "    root = metadata[0, 0]\n",
        "\n",
        "    \"\"\"Extract image names, dobs, genders,  \n",
        "               face locations, \n",
        "               year when the photos were taken,\n",
        "               face scores (second face score too),\n",
        "               celeb ids\n",
        "    \"\"\"\n",
        "    image_names = root[\"full_path\"][0]\n",
        "        \n",
        "    # Do the same for other attributes (dob, genders etc)\n",
        "    dobs = root[\"dob\"][0]# YOUR CODE HERE\n",
        "    genders = root[\"gender\"][0]# YOUR CODE HERE\n",
        "    face_locations = root[\"face_location\"][0]# YOUR CODE HERE\n",
        "    photo_taken_years = root[\"photo_taken\"][0] # YOUR CODE HERE\n",
        "    face_scores = root[\"face_score\"][0] # YOUR CODE HERE\n",
        "    second_face_scores = root[\"second_face_score\"][0] # YOUR CODE HERE\n",
        "    celeb_id = root[\"celeb_id\"][0] # YOUR CODE HERE\n",
        "        \n",
        "    # Now create a dataframe out of all the features like you've seen before\n",
        "    df = pd.DataFrame(\n",
        "        list(zip(image_names,\n",
        "                 dobs,\n",
        "                 genders,\n",
        "                 face_locations,\n",
        "                 photo_taken_years,\n",
        "                 face_scores,\n",
        "                 second_face_scores,\n",
        "                 celeb_id)\n",
        "            ),\n",
        "        columns=['image_names', \n",
        "                 'dobs', \n",
        "                 'genders', \n",
        "                 'face_locations',\n",
        "                 'photo_taken_years',\n",
        "                 'face_scores',\n",
        "                 'second_face_scores',\n",
        "                 'celeb_ids'\n",
        "                ]\n",
        "    )# YOUR CODE HERE\n",
        "\n",
        "    # Filter dataframe by only having the rows with face_scores > 1.0\n",
        "    df = df[df['face_scores'] > 1.0] # YOUR CODE HERE\n",
        "\n",
        "\n",
        "    # Remove any records that contain Nulls/NaNs by checking for NaN with .isna()\n",
        "    df = df[~df['genders'].isna()]\n",
        "    df = df[~df['second_face_scores'].isna()]# YOUR CODE HERE\n",
        "\n",
        "    # Cast genders to integers so that mapping can take place\n",
        "    df.genders = df.genders.astype(int)# YOUR CODE HERE\n",
        "\n",
        "    # Iterate over all the rows in the dataframe and map each feature\n",
        "    for _, row in df.iterrows():\n",
        "      # Extract filename, gender, dob, photo_taken, \n",
        "      # face_score, second_face_score and celeb_id\n",
        "      filename = os.path.join(image_dir, _DATASET_ROOT_DIR, row['image_names'][0])\n",
        "      gender = row['genders']\n",
        "      dob = row['dobs']\n",
        "      photo_taken = row['photo_taken_years']\n",
        "      face_score = row['face_scores']\n",
        "      second_face_score = row['second_face_scores']\n",
        "      celeb_id = row['celeb_ids']\n",
        "\n",
        "      # Get the image shape\n",
        "      image_width, image_height = self._get_image_shape(filename)\n",
        "      # Normalize the bounding boxes by using the face coordinates and the image shape\n",
        "      bbox = self._get_bounding_box_values(row['face_locations'][0], \n",
        "                                           image_width, image_height)\n",
        "\n",
        "      # Yield a feature dictionary \n",
        "      yield filename, {\n",
        "          \"image\": filename,\n",
        "          \"gender\": gender,\n",
        "          \"dob\": dob,\n",
        "          \"photo_taken\": photo_taken,\n",
        "          \"face_location\": tfds.features.BBox(# Create a bounding box (BBox) object out of the coordinates extracted\n",
        "              ymin=min(bbox[0],1.0),\n",
        "              xmin=min(bbox[1],1.0),\n",
        "              ymax=max(bbox[2],1.0),\n",
        "              xmax=max(bbox[3],1.0)), # Create a bounding box (BBox) object out of the coordinates extracted\n",
        "          \"face_score\": face_score,\n",
        "          \"second_face_score\": second_face_score,\n",
        "          \"celeb_id\": celeb_id\n",
        "      }\n"
      ],
      "execution_count": null,
      "outputs": [
        {
          "output_type": "stream",
          "name": "stdout",
          "text": [
            "Writing tensorflow_datasets/image/imdb_faces.py\n"
          ]
        }
      ]
    },
    {
      "cell_type": "markdown",
      "metadata": {
        "id": "7Lu65xXYZC8m"
      },
      "source": [
        "## Add an Import for Registration\n",
        "\n",
        "All subclasses of `tfds.core.DatasetBuilder` are automatically registered when their module is imported such that they can be accessed through `tfds.builder` and `tfds.load`.\n",
        "\n",
        "If you're contributing the dataset to `tensorflow/datasets`, you must add the module import to its subdirectory's `__init__.py` (e.g. `image/__init__.py`), as shown below:"
      ]
    },
    {
      "cell_type": "code",
      "metadata": {
        "id": "pKC49eVJXJLe",
        "colab": {
          "base_uri": "https://localhost:8080/"
        },
        "outputId": "53ce40c0-aee1-4e8a-c078-64d96ea049d2"
      },
      "source": [
        "%%writefile tensorflow_datasets/image/__init__.py\n",
        "# coding=utf-8\n",
        "# Copyright 2019 The TensorFlow Datasets Authors.\n",
        "#\n",
        "# Licensed under the Apache License, Version 2.0 (the \"License\");\n",
        "# you may not use this file except in compliance with the License.\n",
        "# You may obtain a copy of the License at\n",
        "#\n",
        "#     http://www.apache.org/licenses/LICENSE-2.0\n",
        "#\n",
        "# Unless required by applicable law or agreed to in writing, software\n",
        "# distributed under the License is distributed on an \"AS IS\" BASIS,\n",
        "# WITHOUT WARRANTIES OR CONDITIONS OF ANY KIND, either express or implied.\n",
        "# See the License for the specific language governing permissions and\n",
        "# limitations under the License.\n",
        "\n",
        "\"\"\"Image datasets.\"\"\"\n",
        "\n",
        "from tensorflow_datasets.image.abstract_reasoning import AbstractReasoning\n",
        "from tensorflow_datasets.image.aflw2k3d import Aflw2k3d\n",
        "from tensorflow_datasets.image.bigearthnet import Bigearthnet\n",
        "from tensorflow_datasets.image.binarized_mnist import BinarizedMNIST\n",
        "from tensorflow_datasets.image.binary_alpha_digits import BinaryAlphaDigits\n",
        "from tensorflow_datasets.image.caltech import Caltech101\n",
        "from tensorflow_datasets.image.caltech_birds import CaltechBirds2010\n",
        "from tensorflow_datasets.image.cats_vs_dogs import CatsVsDogs\n",
        "from tensorflow_datasets.image.cbis_ddsm import CuratedBreastImagingDDSM\n",
        "from tensorflow_datasets.image.celeba import CelebA\n",
        "from tensorflow_datasets.image.celebahq import CelebAHq\n",
        "from tensorflow_datasets.image.chexpert import Chexpert\n",
        "from tensorflow_datasets.image.cifar import Cifar10\n",
        "from tensorflow_datasets.image.cifar import Cifar100\n",
        "from tensorflow_datasets.image.cifar10_corrupted import Cifar10Corrupted\n",
        "from tensorflow_datasets.image.clevr import CLEVR\n",
        "from tensorflow_datasets.image.coco import Coco\n",
        "from tensorflow_datasets.image.coco2014_legacy import Coco2014\n",
        "from tensorflow_datasets.image.coil100 import Coil100\n",
        "from tensorflow_datasets.image.colorectal_histology import ColorectalHistology\n",
        "from tensorflow_datasets.image.colorectal_histology import ColorectalHistologyLarge\n",
        "from tensorflow_datasets.image.cycle_gan import CycleGAN\n",
        "from tensorflow_datasets.image.deep_weeds import DeepWeeds\n",
        "from tensorflow_datasets.image.diabetic_retinopathy_detection import DiabeticRetinopathyDetection\n",
        "from tensorflow_datasets.image.downsampled_imagenet import DownsampledImagenet\n",
        "from tensorflow_datasets.image.dsprites import Dsprites\n",
        "from tensorflow_datasets.image.dtd import Dtd\n",
        "from tensorflow_datasets.image.eurosat import Eurosat\n",
        "from tensorflow_datasets.image.flowers import TFFlowers\n",
        "from tensorflow_datasets.image.food101 import Food101\n",
        "from tensorflow_datasets.image.horses_or_humans import HorsesOrHumans\n",
        "from tensorflow_datasets.image.image_folder import ImageLabelFolder\n",
        "from tensorflow_datasets.image.imagenet import Imagenet2012\n",
        "from tensorflow_datasets.image.imagenet2012_corrupted import Imagenet2012Corrupted\n",
        "from tensorflow_datasets.image.kitti import Kitti\n",
        "from tensorflow_datasets.image.lfw import LFW\n",
        "from tensorflow_datasets.image.lsun import Lsun\n",
        "from tensorflow_datasets.image.mnist import EMNIST\n",
        "from tensorflow_datasets.image.mnist import FashionMNIST\n",
        "from tensorflow_datasets.image.mnist import KMNIST\n",
        "from tensorflow_datasets.image.mnist import MNIST\n",
        "from tensorflow_datasets.image.mnist_corrupted import MNISTCorrupted\n",
        "from tensorflow_datasets.image.omniglot import Omniglot\n",
        "from tensorflow_datasets.image.open_images import OpenImagesV4\n",
        "from tensorflow_datasets.image.oxford_flowers102 import OxfordFlowers102\n",
        "from tensorflow_datasets.image.oxford_iiit_pet import OxfordIIITPet\n",
        "from tensorflow_datasets.image.patch_camelyon import PatchCamelyon\n",
        "from tensorflow_datasets.image.pet_finder import PetFinder\n",
        "from tensorflow_datasets.image.quickdraw import QuickdrawBitmap\n",
        "from tensorflow_datasets.image.resisc45 import Resisc45\n",
        "from tensorflow_datasets.image.rock_paper_scissors import RockPaperScissors\n",
        "from tensorflow_datasets.image.scene_parse_150 import SceneParse150\n",
        "from tensorflow_datasets.image.shapes3d import Shapes3d\n",
        "from tensorflow_datasets.image.smallnorb import Smallnorb\n",
        "from tensorflow_datasets.image.so2sat import So2sat\n",
        "from tensorflow_datasets.image.stanford_dogs import StanfordDogs\n",
        "from tensorflow_datasets.image.stanford_online_products import StanfordOnlineProducts\n",
        "from tensorflow_datasets.image.sun import Sun397\n",
        "from tensorflow_datasets.image.svhn import SvhnCropped\n",
        "from tensorflow_datasets.image.uc_merced import UcMerced\n",
        "from tensorflow_datasets.image.visual_domain_decathlon import VisualDomainDecathlon\n",
        "from tensorflow_datasets.image.voc import Voc2007\n",
        "\n",
        "# EXERCISE: Import your dataset module here\n",
        "\n",
        "# YOUR CODE HERE\n",
        "from tensorflow_datasets.image.imdb_faces import ImdbFaces"
      ],
      "execution_count": null,
      "outputs": [
        {
          "output_type": "stream",
          "name": "stdout",
          "text": [
            "Overwriting tensorflow_datasets/image/__init__.py\n"
          ]
        }
      ]
    },
    {
      "cell_type": "markdown",
      "metadata": {
        "id": "QYmgS2SrYXtP"
      },
      "source": [
        "## URL Checksums\n",
        "\n",
        "If you're contributing the dataset to `tensorflow/datasets`, add a checksums file for the dataset. On first download, the DownloadManager will automatically add the sizes and checksums for all downloaded URLs to that file. This ensures that on subsequent data generation, the downloaded files are as expected."
      ]
    },
    {
      "cell_type": "code",
      "metadata": {
        "id": "cvrp-iHuYG_e"
      },
      "source": [
        "!touch tensorflow_datasets/url_checksums/imdb_faces.txt"
      ],
      "execution_count": null,
      "outputs": []
    },
    {
      "cell_type": "markdown",
      "metadata": {
        "id": "JwnUAn49U-U8"
      },
      "source": [
        "\n",
        "## Build the Dataset"
      ]
    },
    {
      "cell_type": "code",
      "metadata": {
        "id": "Y8uKiqWrU_C0"
      },
      "source": [
        "# EXERCISE: Fill in the name of your dataset.\n",
        "# The name must be a string.\n",
        "DATASET_NAME =  \"imdb_faces\" # YOUR CODE HERE"
      ],
      "execution_count": null,
      "outputs": []
    },
    {
      "cell_type": "code",
      "metadata": {
        "id": "Mms-YwvlQDxr",
        "colab": {
          "base_uri": "https://localhost:8080/"
        },
        "outputId": "6621be24-51e2-496b-9869-7d889813df50"
      },
      "source": [
        "%%bash -s $DATASET_NAME\n",
        "python -m tensorflow_datasets.scripts.download_and_prepare \\\n",
        "  --register_checksums \\\n",
        "  --datasets=$1"
      ],
      "execution_count": null,
      "outputs": [
        {
          "output_type": "stream",
          "name": "stdout",
          "text": [
            "\u001b[1mDownloading and preparing dataset imdb_faces (?? GiB) to /root/tensorflow_datasets/imdb_faces/0.1.0...\u001b[0m\n",
            "\n",
            "\n",
            "\n",
            "\n",
            "\n"
          ]
        },
        {
          "output_type": "stream",
          "name": "stderr",
          "text": [
            "2022-07-13 12:26:27.337438: E tensorflow/stream_executor/cuda/cuda_driver.cc:271] failed call to cuInit: CUDA_ERROR_NO_DEVICE: no CUDA-capable device is detected\n",
            "I0713 12:26:27.337762 140081636702080 download_and_prepare.py:171] Running download_and_prepare for datasets:\n",
            "imdb_faces\n",
            "I0713 12:26:27.338216 140081636702080 download_and_prepare.py:172] Version: \"None\"\n",
            "I0713 12:26:27.339246 140081636702080 dataset_builder.py:187] Load pre-computed datasetinfo (eg: splits) from bucket.\n",
            "I0713 12:26:27.439016 140081636702080 download_and_prepare.py:122] download_and_prepare for dataset imdb_faces/0.1.0...\n",
            "I0713 12:26:27.557409 140081636702080 dataset_builder.py:273] Generating dataset imdb_faces (/root/tensorflow_datasets/imdb_faces/0.1.0)\n",
            "\rDl Completed...: 0 url [00:00, ? url/s]\n",
            "\rDl Size...: 0 MiB [00:00, ? MiB/s]\u001b[AI0713 12:26:27.562441 140081636702080 download_manager.py:231] URL https://data.vision.ee.ethz.ch/cvl/rrothe/imdb-wiki/static/imdb_crop.tar already downloaded: reusing /root/tensorflow_datasets/downloads/data.visi.ee.ethz.ch_cvl_rrot_imdb-wiki_imYEqhftie7hNk7EuBBwMCeLW7qW3dgVBnRsD6vObIcCU.tar.\n",
            "\rDl Size...: 0 MiB [00:00, ? MiB/s]\n",
            "\rDl Completed...: 0 url [00:00, ? url/s]\n",
            "\rDl Completed...: 0 url [00:00, ? url/s]\n",
            "\rDl Size...: 0 MiB [00:00, ? MiB/s]\u001b[A\n",
            "\n",
            "\rExtraction completed...: 0 file [00:00, ? file/s]\u001b[A\u001b[AI0713 12:26:27.564063 140081636702080 download_manager.py:231] URL https://data.vision.ee.ethz.ch/cvl/rrothe/imdb-wiki/static/imdb_crop.tar already downloaded: reusing /root/tensorflow_datasets/downloads/data.visi.ee.ethz.ch_cvl_rrot_imdb-wiki_imYEqhftie7hNk7EuBBwMCeLW7qW3dgVBnRsD6vObIcCU.tar.\n",
            "\rDl Completed...: 0 url [00:00, ? url/s]\n",
            "\rDl Size...: 0 MiB [00:00, ? MiB/s]\u001b[A\n",
            "\n",
            "\rExtraction completed...:   0%|          | 0/1 [00:00<?, ? file/s]\u001b[A\u001b[A\n",
            "\n",
            "\rExtraction completed...: 100%|██████████| 1/1 [03:08<00:00, 188.58s/ file]\u001b[A\u001b[A\rDl Completed...: 0 url [03:08, ? url/s]\n",
            "\rDl Size...: 0 MiB [03:08, ? MiB/s]\u001b[A\n",
            "\n",
            "\rExtraction completed...: 100%|██████████| 1/1 [03:08<00:00, 188.58s/ file]\u001b[A\u001b[A\rExtraction completed...: 100%|██████████| 1/1 [03:08<00:00, 188.59s/ file]\n",
            "\rDl Size...: 0 MiB [03:08, ? MiB/s]\n",
            "\rDl Completed...: 0 url [03:08, ? url/s]\n",
            "Traceback (most recent call last):\n",
            "  File \"/usr/lib/python3.7/runpy.py\", line 193, in _run_module_as_main\n",
            "    \"__main__\", mod_spec)\n",
            "  File \"/usr/lib/python3.7/runpy.py\", line 85, in _run_code\n",
            "    exec(code, run_globals)\n",
            "  File \"/content/datasets/tensorflow_datasets/scripts/download_and_prepare.py\", line 210, in <module>\n",
            "    app.run(main)\n",
            "  File \"/usr/local/lib/python3.7/dist-packages/absl/app.py\", line 312, in run\n",
            "    _run_main(main, args)\n",
            "  File \"/usr/local/lib/python3.7/dist-packages/absl/app.py\", line 258, in _run_main\n",
            "    sys.exit(main(argv))\n",
            "  File \"/content/datasets/tensorflow_datasets/scripts/download_and_prepare.py\", line 205, in main\n",
            "    download_and_prepare(builder)\n",
            "  File \"/content/datasets/tensorflow_datasets/scripts/download_and_prepare.py\", line 135, in download_and_prepare\n",
            "    download_config=dl_config,\n",
            "  File \"/content/datasets/tensorflow_datasets/core/api_utils.py\", line 52, in disallow_positional_args_dec\n",
            "    return fn(*args, **kwargs)\n",
            "  File \"/content/datasets/tensorflow_datasets/core/dataset_builder.py\", line 287, in download_and_prepare\n",
            "    download_config=download_config)\n",
            "  File \"/content/datasets/tensorflow_datasets/core/dataset_builder.py\", line 948, in _download_and_prepare\n",
            "    max_examples_per_split=download_config.max_examples_per_split,\n",
            "  File \"/content/datasets/tensorflow_datasets/core/dataset_builder.py\", line 804, in _download_and_prepare\n",
            "    for split_generator in self._split_generators(dl_manager):\n",
            "  File \"/content/datasets/tensorflow_datasets/image/imdb_faces.py\", line 110, in _split_generators\n",
            "    self.info.features['gender'].names = tuple(\"Female\",\"Male\") # YOUR CODE HERE\n",
            "TypeError: tuple expected at most 1 arguments, got 2\n"
          ]
        }
      ]
    },
    {
      "cell_type": "markdown",
      "metadata": {
        "id": "S7evoTtpon7I"
      },
      "source": [
        "We then run the `download_and_prepare` script locally to build it, using the following command:\n",
        "\n",
        "```\n",
        "%%bash -s $DATASET_NAME\n",
        "python -m tensorflow_datasets.scripts.download_and_prepare \\\n",
        "  --register_checksums \\\n",
        "  --datasets=$1\n",
        "```\n",
        "\n",
        "**NOTE:** It may take more than 30 minutes to download the dataset and then write all the preprocessed files as TFRecords. Due to the enormous size of the data involved, we are not going to run the above code here. However, if you have enough disk space, you are welcome to run it locally or in a Colab. "
      ]
    },
    {
      "cell_type": "markdown",
      "metadata": {
        "id": "7hNPD2rraN5o"
      },
      "source": [
        "## Load the Dataset\n",
        "\n",
        "Once the dataset is built you can load it in the usual way, by using `tfds.load`, as shown below:\n",
        "\n",
        "```python\n",
        "import tensorflow_datasets as tfds\n",
        "dataset, info = tfds.load('imdb_faces', with_info=True)\n",
        "```\n",
        "\n",
        "**Note:** Since we didn't build the `imdb_faces` dataset due to its size, we are unable to run the above code. However, if you had enough disk space to build the `imdb_faces` dataset, you are welcome to run it locally or in a Colab."
      ]
    },
    {
      "cell_type": "markdown",
      "metadata": {
        "id": "Hsd5mm-xtjWF"
      },
      "source": [
        "## Explore the Dataset\n",
        "\n",
        "Once the dataset is loaded, you can explore it by using the following loop:\n",
        "\n",
        "```python\n",
        "for feature in tfds.as_numpy(dataset['train']):\n",
        "  for key, value in feature.items():\n",
        "    if key == 'image':\n",
        "      value = value.shape\n",
        "    print(key, value)\n",
        "  break\n",
        "```\n",
        "\n",
        "**Note:** Since we didn't build the `imdb_faces` dataset due to its size, we are unable to run the above code. However, if you had enough disk space to build the `imdb_faces` dataset, you are welcome to run it locally or in a Colab.\n",
        "\n",
        "The expected output from the code block shown above should be:\n",
        "\n",
        "```python\n",
        ">>>\n",
        "celeb_id 12387\n",
        "dob 722957\n",
        "face_location [1.         0.56327355 1.         1.        ]\n",
        "face_score 4.0612864\n",
        "gender 0\n",
        "image (96, 97, 3)\n",
        "photo_taken 2007\n",
        "second_face_score 3.6680346\n",
        "```"
      ]
    },
    {
      "cell_type": "markdown",
      "metadata": {
        "id": "BhUO2vXDZw8q"
      },
      "source": [
        "# Next steps for publishing\n",
        "\n",
        "**Double-check the citation**  \n",
        "\n",
        "It's important that DatasetInfo.citation includes a good citation for the dataset. It's hard and important work contributing a dataset to the community and we want to make it easy for dataset users to cite the work.\n",
        "\n",
        "If the dataset's website has a specifically requested citation, use that (in BibTex format).\n",
        "\n",
        "If the paper is on arXiv, find it there and click the bibtex link on the right-hand side.\n",
        "\n",
        "If the paper is not on arXiv, find the paper on Google Scholar and click the double-quotation mark underneath the title and on the popup, click BibTeX.\n",
        "\n",
        "If there is no associated paper (for example, there's just a website), you can use the BibTeX Online Editor to create a custom BibTeX entry (the drop-down menu has an Online entry type).\n",
        "  \n",
        "\n",
        "**Add a test**   \n",
        "\n",
        "Most datasets in TFDS should have a unit test and your reviewer may ask you to add one if you haven't already. See the testing section below.   \n",
        "**Check your code style**  \n",
        "\n",
        "Follow the PEP 8 Python style guide, except TensorFlow uses 2 spaces instead of 4. Please conform to the Google Python Style Guide,\n",
        "\n",
        "Most importantly, use tensorflow_datasets/oss_scripts/lint.sh to ensure your code is properly formatted. For example, to lint the image directory\n",
        "See TensorFlow code style guide for more information.\n",
        "\n",
        "**Add release notes**\n",
        "Add the dataset to the release notes. The release note will be published for the next release.\n",
        "\n",
        "**Send for review!**\n",
        "Send the pull request for review.\n",
        "\n",
        "For more information, visit https://www.tensorflow.org/datasets/add_dataset"
      ]
    },
    {
      "cell_type": "code",
      "metadata": {
        "id": "Ajn67eDVPo29"
      },
      "source": [
        ""
      ],
      "execution_count": null,
      "outputs": []
    }
  ]
}